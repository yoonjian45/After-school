{
 "cells": [
  {
   "cell_type": "code",
   "execution_count": 12,
   "id": "da0e377c",
   "metadata": {},
   "outputs": [],
   "source": [
    "my_list = [1,2,3,4,5]"
   ]
  },
  {
   "cell_type": "code",
   "execution_count": 13,
   "id": "6c078f88",
   "metadata": {},
   "outputs": [
    {
     "name": "stdout",
     "output_type": "stream",
     "text": [
      "{1, 2, 3, 4, 5}\n"
     ]
    }
   ],
   "source": [
    "my_set = set(my_list)\n",
    "print(my_set)"
   ]
  },
  {
   "cell_type": "code",
   "execution_count": 14,
   "id": "15621029",
   "metadata": {},
   "outputs": [
    {
     "data": {
      "text/plain": [
       "list"
      ]
     },
     "execution_count": 14,
     "metadata": {},
     "output_type": "execute_result"
    }
   ],
   "source": [
    "type(my_list)"
   ]
  },
  {
   "cell_type": "code",
   "execution_count": 15,
   "id": "8904d2f1",
   "metadata": {},
   "outputs": [
    {
     "data": {
      "text/plain": [
       "{1, 2, 3, 4, 5}"
      ]
     },
     "execution_count": 15,
     "metadata": {},
     "output_type": "execute_result"
    }
   ],
   "source": [
    "my_list = {x for x in range(1,6)}\n",
    "my_list"
   ]
  },
  {
   "cell_type": "code",
   "execution_count": 16,
   "id": "0ab33612",
   "metadata": {},
   "outputs": [
    {
     "name": "stdout",
     "output_type": "stream",
     "text": [
      "i: 80\n",
      "i: 75\n",
      "i: 55\n",
      "합계 210\n"
     ]
    }
   ],
   "source": [
    "grade = [80,75,55]\n",
    "hap = 0\n",
    "\n",
    "for i in grade:\n",
    "    print(\"i:\",i)\n",
    "    hap = hap+i\n",
    "print('합계 %d' % hap)"
   ]
  },
  {
   "cell_type": "code",
   "execution_count": 17,
   "id": "2d828a51",
   "metadata": {},
   "outputs": [
    {
     "name": "stdout",
     "output_type": "stream",
     "text": [
      "Odd\n"
     ]
    }
   ],
   "source": [
    "if 13%2 == 0:\n",
    "    print('Even')\n",
    "else:\n",
    "    print('Odd')"
   ]
  },
  {
   "cell_type": "code",
   "execution_count": 46,
   "id": "64a1128b",
   "metadata": {},
   "outputs": [
    {
     "name": "stdout",
     "output_type": "stream",
     "text": [
      "당신은 11월 20일 생입니다\n"
     ]
    }
   ],
   "source": [
    "a = '881120-1068234'\n",
    "s = a.split('-')\n",
    "print(f'당신은 {a[2:4]}월 {a[4:6]}일 생입니다')"
   ]
  },
  {
   "cell_type": "code",
   "execution_count": 44,
   "id": "d040004e",
   "metadata": {},
   "outputs": [
    {
     "name": "stdout",
     "output_type": "stream",
     "text": [
      "남자\n",
      "1\n"
     ]
    }
   ],
   "source": [
    "pin = '881120-1068234'\n",
    "if pin[7] == '1':\n",
    "    print('남자')\n",
    "else:\n",
    "    print('여자')\n",
    "print(pin[7])"
   ]
  },
  {
   "cell_type": "code",
   "execution_count": 21,
   "id": "f5efe25c",
   "metadata": {},
   "outputs": [
    {
     "data": {
      "text/plain": [
       "'a#b#c#d'"
      ]
     },
     "execution_count": 21,
     "metadata": {},
     "output_type": "execute_result"
    }
   ],
   "source": [
    "a = 'a:b:c:d'\n",
    "a.replace(':',\"#\")"
   ]
  },
  {
   "cell_type": "code",
   "execution_count": 30,
   "id": "7d9cf639",
   "metadata": {},
   "outputs": [
    {
     "name": "stdout",
     "output_type": "stream",
     "text": [
      "[5, 4, 3, 2, 1]\n"
     ]
    }
   ],
   "source": [
    "a = [1,2,3,4,5]\n",
    "print(a[::-1])"
   ]
  },
  {
   "cell_type": "code",
   "execution_count": 33,
   "id": "0ce6de64",
   "metadata": {},
   "outputs": [
    {
     "data": {
      "text/plain": [
       "'Life is too short'"
      ]
     },
     "execution_count": 33,
     "metadata": {},
     "output_type": "execute_result"
    }
   ],
   "source": [
    "s = ['Life ','is ','too ','short']\n",
    "\"\".join(s)"
   ]
  },
  {
   "cell_type": "code",
   "execution_count": 34,
   "id": "2487fbc9",
   "metadata": {},
   "outputs": [
    {
     "name": "stdout",
     "output_type": "stream",
     "text": [
      "(1, 2, 3, 4)\n"
     ]
    }
   ],
   "source": [
    "a = (1,2,3)\n",
    "b = (4,)\n",
    "c = a + b\n",
    "print(c)"
   ]
  },
  {
   "cell_type": "code",
   "execution_count": 35,
   "id": "77f60ca3",
   "metadata": {},
   "outputs": [
    {
     "data": {
      "text/plain": [
       "80"
      ]
     },
     "execution_count": 35,
     "metadata": {},
     "output_type": "execute_result"
    }
   ],
   "source": [
    "a = {'A':90,'B':80,'C':70}\n",
    "a.pop('B')"
   ]
  },
  {
   "cell_type": "code",
   "execution_count": 39,
   "id": "d8665a5f",
   "metadata": {},
   "outputs": [
    {
     "data": {
      "text/plain": [
       "{1, 2, 3, 4, 5}"
      ]
     },
     "execution_count": 39,
     "metadata": {},
     "output_type": "execute_result"
    }
   ],
   "source": [
    "a = [1,1,1,2,2,3,3,3,4,4,5]\n",
    "t = set(a)\n",
    "t"
   ]
  },
  {
   "cell_type": "code",
   "execution_count": 40,
   "id": "53e3104f",
   "metadata": {},
   "outputs": [
    {
     "name": "stdout",
     "output_type": "stream",
     "text": [
      "[1, 4, 3]\n"
     ]
    }
   ],
   "source": [
    "a = b = [1,2,3]\n",
    "a[1] = 4\n",
    "print(b)"
   ]
  },
  {
   "cell_type": "code",
   "execution_count": 49,
   "id": "69671a62",
   "metadata": {},
   "outputs": [
    {
     "name": "stdout",
     "output_type": "stream",
     "text": [
      "얼마있어?400\n",
      "아이스크림 먹자\n"
     ]
    }
   ],
   "source": [
    "money = int(input('얼마있어?'))\n",
    "if money True:\n",
    "    print('아이스크림 먹자')\n",
    "else:\n",
    "    pirnt('돈없어 먹지마')"
   ]
  },
  {
   "cell_type": "code",
   "execution_count": 62,
   "id": "3722302a",
   "metadata": {},
   "outputs": [
    {
     "name": "stdout",
     "output_type": "stream",
     "text": [
      "먹자\n"
     ]
    }
   ],
   "source": [
    "money = 300\n",
    "card = True\n",
    "\n",
    "if money >= 300:\n",
    "    if card:\n",
    "        print('먹자')\n",
    "    else:\n",
    "        pirnt('안먹어')\n",
    "else:\n",
    "    if card:\n",
    "        print('먹자')\n",
    "    else:\n",
    "        print('안먹어')"
   ]
  },
  {
   "cell_type": "code",
   "execution_count": 76,
   "id": "048ebdba",
   "metadata": {},
   "outputs": [
    {
     "data": {
      "text/plain": [
       "False"
      ]
     },
     "execution_count": 76,
     "metadata": {},
     "output_type": "execute_result"
    }
   ],
   "source": [
    "r = [1,2,3,4]\n",
    "\n",
    "5 in r"
   ]
  },
  {
   "cell_type": "code",
   "execution_count": 89,
   "id": "07f364c8",
   "metadata": {},
   "outputs": [
    {
     "name": "stdout",
     "output_type": "stream",
     "text": [
      "[1, 2, 3, 4, 5]\n"
     ]
    }
   ],
   "source": [
    "d = [1,2,3,4,5]\n",
    "d.sort()\n",
    "print(d)"
   ]
  },
  {
   "cell_type": "code",
   "execution_count": 93,
   "id": "76db06d4",
   "metadata": {},
   "outputs": [
    {
     "name": "stdout",
     "output_type": "stream",
     "text": [
      "길이는 : 5\n"
     ]
    }
   ],
   "source": [
    "print(f'길이는 : {len(d)}')"
   ]
  },
  {
   "cell_type": "code",
   "execution_count": 97,
   "id": "75b04744",
   "metadata": {},
   "outputs": [
    {
     "data": {
      "text/plain": [
       "2"
      ]
     },
     "execution_count": 97,
     "metadata": {},
     "output_type": "execute_result"
    }
   ],
   "source": [
    "m = 5//2\n",
    "m"
   ]
  },
  {
   "cell_type": "code",
   "execution_count": 96,
   "id": "36241a3d",
   "metadata": {},
   "outputs": [
    {
     "data": {
      "text/plain": [
       "3"
      ]
     },
     "execution_count": 96,
     "metadata": {},
     "output_type": "execute_result"
    }
   ],
   "source": [
    "d[m]"
   ]
  },
  {
   "cell_type": "code",
   "execution_count": 106,
   "id": "62f57772",
   "metadata": {},
   "outputs": [
    {
     "data": {
      "text/plain": [
       "[2, 3, 4, 5, 6, 7]"
      ]
     },
     "execution_count": 106,
     "metadata": {},
     "output_type": "execute_result"
    }
   ],
   "source": [
    "b = [2,3,4,5,6,7]\n",
    "b.sort()\n",
    "b"
   ]
  },
  {
   "cell_type": "code",
   "execution_count": 109,
   "id": "a4e2e89d",
   "metadata": {},
   "outputs": [
    {
     "name": "stdout",
     "output_type": "stream",
     "text": [
      "6\n"
     ]
    }
   ],
   "source": [
    "t = len(b)\n",
    "print(t)"
   ]
  },
  {
   "cell_type": "code",
   "execution_count": 114,
   "id": "213af0ec",
   "metadata": {},
   "outputs": [
    {
     "data": {
      "text/plain": [
       "3"
      ]
     },
     "execution_count": 114,
     "metadata": {},
     "output_type": "execute_result"
    }
   ],
   "source": [
    "a = t // 2\n",
    "a"
   ]
  },
  {
   "cell_type": "code",
   "execution_count": 120,
   "id": "00ca67aa",
   "metadata": {},
   "outputs": [
    {
     "data": {
      "text/plain": [
       "[4, 5]"
      ]
     },
     "execution_count": 120,
     "metadata": {},
     "output_type": "execute_result"
    }
   ],
   "source": [
    "b[a-1:a+1]"
   ]
  },
  {
   "cell_type": "code",
   "execution_count": 124,
   "id": "0fa8c570",
   "metadata": {},
   "outputs": [
    {
     "name": "stdout",
     "output_type": "stream",
     "text": [
      "Collecting opencv-python\n",
      "  Downloading opencv_python-4.9.0.80-cp37-abi3-win_amd64.whl (38.6 MB)\n",
      "     --------------------------------------- 38.6/38.6 MB 40.9 MB/s eta 0:00:00\n",
      "Requirement already satisfied: numpy>=1.17.0 in c:\\users\\user\\anaconda3\\lib\\site-packages (from opencv-python) (1.23.5)\n",
      "Installing collected packages: opencv-python\n",
      "Successfully installed opencv-python-4.9.0.80\n"
     ]
    }
   ],
   "source": [
    "! pip install opencv-python"
   ]
  },
  {
   "cell_type": "code",
   "execution_count": 140,
   "id": "9ce59fda",
   "metadata": {},
   "outputs": [
    {
     "ename": "KeyboardInterrupt",
     "evalue": "",
     "output_type": "error",
     "traceback": [
      "\u001b[1;31m---------------------------------------------------------------------------\u001b[0m",
      "\u001b[1;31mKeyboardInterrupt\u001b[0m                         Traceback (most recent call last)",
      "Cell \u001b[1;32mIn[140], line 11\u001b[0m\n\u001b[0;32m      7\u001b[0m gray_image \u001b[38;5;241m=\u001b[39m cv2\u001b[38;5;241m.\u001b[39mcvtColor(image, cv2\u001b[38;5;241m.\u001b[39mCOLOR_BGR2GRAY)\n\u001b[0;32m      9\u001b[0m cv2\u001b[38;5;241m.\u001b[39mimshow(\u001b[38;5;124m'\u001b[39m\u001b[38;5;124mOriginal Ieage\u001b[39m\u001b[38;5;124m'\u001b[39m, image)\n\u001b[1;32m---> 11\u001b[0m \u001b[43mcv2\u001b[49m\u001b[38;5;241;43m.\u001b[39;49m\u001b[43mwaitKey\u001b[49m\u001b[43m(\u001b[49m\u001b[38;5;241;43m0\u001b[39;49m\u001b[43m)\u001b[49m\n\u001b[0;32m     13\u001b[0m cv2\u001b[38;5;241m.\u001b[39mdestroyAllwindows()\n",
      "\u001b[1;31mKeyboardInterrupt\u001b[0m: "
     ]
    }
   ],
   "source": [
    "import cv2\n",
    "\n",
    "image_path = \"sample.jpg\"\n",
    "\n",
    "image = cv2.imread(image_path)\n",
    "\n",
    "gray_image = cv2.cvtColor(image, cv2.COLOR_BGR2GRAY)\n",
    "\n",
    "cv2.imshow('Original Ieage', image)\n",
    "\n",
    "cv2.waitKey(0)\n",
    "\n",
    "cv2.destroyAllwindows()"
   ]
  },
  {
   "cell_type": "code",
   "execution_count": 143,
   "id": "188a5e20",
   "metadata": {},
   "outputs": [
    {
     "name": "stdout",
     "output_type": "stream",
     "text": [
      "Both x and y and positive\n"
     ]
    }
   ],
   "source": [
    "x = 5\n",
    "y = 10\n",
    "\n",
    "if x > 0 or y > 0:\n",
    "    print('Both x and y and positive')\n",
    "else:\n",
    "    print('negative')"
   ]
  },
  {
   "cell_type": "code",
   "execution_count": 145,
   "id": "8eec5f0b",
   "metadata": {},
   "outputs": [
    {
     "name": "stdout",
     "output_type": "stream",
     "text": [
      "It`s raining\n"
     ]
    }
   ],
   "source": [
    "is_raining = True\n",
    "\n",
    "if not is_raining:\n",
    "    print('It`s not raining')\n",
    "else:\n",
    "    print('It`s raining')"
   ]
  },
  {
   "cell_type": "code",
   "execution_count": 146,
   "id": "23d21ab8",
   "metadata": {},
   "outputs": [
    {
     "data": {
      "text/plain": [
       "array([[[ 90, 112, 139],\n",
       "        [ 94, 115, 147],\n",
       "        [ 93, 114, 146],\n",
       "        ...,\n",
       "        [211, 215, 210],\n",
       "        [211, 215, 210],\n",
       "        [211, 215, 210]],\n",
       "\n",
       "       [[ 90, 112, 139],\n",
       "        [ 93, 114, 144],\n",
       "        [ 93, 113, 143],\n",
       "        ...,\n",
       "        [211, 215, 210],\n",
       "        [211, 215, 210],\n",
       "        [211, 215, 210]],\n",
       "\n",
       "       [[ 89, 112, 138],\n",
       "        [ 94, 114, 141],\n",
       "        [ 94, 114, 141],\n",
       "        ...,\n",
       "        [211, 215, 210],\n",
       "        [211, 215, 210],\n",
       "        [211, 215, 210]],\n",
       "\n",
       "       ...,\n",
       "\n",
       "       [[ 90,  96, 103],\n",
       "        [ 98, 101, 105],\n",
       "        [107, 109, 112],\n",
       "        ...,\n",
       "        [208, 211, 216],\n",
       "        [210, 213, 218],\n",
       "        [210, 213, 217]],\n",
       "\n",
       "       [[ 89,  94, 102],\n",
       "        [ 95,  98, 102],\n",
       "        [102, 106, 107],\n",
       "        ...,\n",
       "        [212, 215, 219],\n",
       "        [214, 217, 221],\n",
       "        [213, 216, 220]],\n",
       "\n",
       "       [[ 89,  94, 101],\n",
       "        [ 96,  99, 103],\n",
       "        [104, 106, 109],\n",
       "        ...,\n",
       "        [217, 219, 220],\n",
       "        [219, 221, 222],\n",
       "        [218, 220, 221]]], dtype=uint8)"
      ]
     },
     "execution_count": 146,
     "metadata": {},
     "output_type": "execute_result"
    }
   ],
   "source": [
    "image"
   ]
  },
  {
   "cell_type": "code",
   "execution_count": 150,
   "id": "f080c2d8",
   "metadata": {},
   "outputs": [
    {
     "ename": "AttributeError",
     "evalue": "module 'cv2' has no attribute 'destroyAllwindows'",
     "output_type": "error",
     "traceback": [
      "\u001b[1;31m---------------------------------------------------------------------------\u001b[0m",
      "\u001b[1;31mAttributeError\u001b[0m                            Traceback (most recent call last)",
      "Cell \u001b[1;32mIn[150], line 11\u001b[0m\n\u001b[0;32m      9\u001b[0m cv2\u001b[38;5;241m.\u001b[39mimshow(\u001b[38;5;124m'\u001b[39m\u001b[38;5;124mRed Tmage\u001b[39m\u001b[38;5;124m'\u001b[39m, red_color)\n\u001b[0;32m     10\u001b[0m cv2\u001b[38;5;241m.\u001b[39mwaitKey(\u001b[38;5;241m0\u001b[39m)\n\u001b[1;32m---> 11\u001b[0m \u001b[43mcv2\u001b[49m\u001b[38;5;241;43m.\u001b[39;49m\u001b[43mdestroyAllwindows\u001b[49m()\n",
      "\u001b[1;31mAttributeError\u001b[0m: module 'cv2' has no attribute 'destroyAllwindows'"
     ]
    }
   ],
   "source": [
    "import numpy as np\n",
    "import cv2\n",
    "\n",
    "width = 400\n",
    "height = 300\n",
    "\n",
    "red_color = np.full((height,width,3),(0,0,255),dtype=np.uint8)\n",
    "\n",
    "cv2.imshow('Red Tmage', red_color)\n",
    "cv2.waitKey(0)\n",
    "cv2.destroyAllwindows()"
   ]
  },
  {
   "cell_type": "code",
   "execution_count": null,
   "id": "8075a7e1",
   "metadata": {},
   "outputs": [],
   "source": []
  }
 ],
 "metadata": {
  "kernelspec": {
   "display_name": "Python 3 (ipykernel)",
   "language": "python",
   "name": "python3"
  },
  "language_info": {
   "codemirror_mode": {
    "name": "ipython",
    "version": 3
   },
   "file_extension": ".py",
   "mimetype": "text/x-python",
   "name": "python",
   "nbconvert_exporter": "python",
   "pygments_lexer": "ipython3",
   "version": "3.10.9"
  }
 },
 "nbformat": 4,
 "nbformat_minor": 5
}
