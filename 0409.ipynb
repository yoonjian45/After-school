{
 "cells": [
  {
   "cell_type": "code",
   "execution_count": 1,
   "id": "3a9d10a8",
   "metadata": {},
   "outputs": [
    {
     "name": "stdout",
     "output_type": "stream",
     "text": [
      "4950\n"
     ]
    }
   ],
   "source": [
    "sum = 0\n",
    "for i in range(1,100):\n",
    "    sum += i\n",
    "print(sum)"
   ]
  },
  {
   "cell_type": "code",
   "execution_count": 10,
   "id": "d7ffc801",
   "metadata": {},
   "outputs": [],
   "source": [
    "def print_h1(name):\n",
    "    print(f'H1,{name}')"
   ]
  },
  {
   "cell_type": "code",
   "execution_count": 11,
   "id": "7da0c220",
   "metadata": {},
   "outputs": [
    {
     "name": "stdout",
     "output_type": "stream",
     "text": [
      "H1,Hello World\n"
     ]
    }
   ],
   "source": [
    "if __name__ == '__main__':\n",
    "    print_h1('Hello World')"
   ]
  },
  {
   "cell_type": "code",
   "execution_count": 12,
   "id": "67ae3db4",
   "metadata": {},
   "outputs": [
    {
     "name": "stdout",
     "output_type": "stream",
     "text": [
      "['Jessa', 'Kelly', 20, 35, 75]\n",
      "<class 'list'>\n",
      "Jessa\n",
      "['Kelly', 20, 35, 75]\n",
      "Emma\n"
     ]
    }
   ],
   "source": [
    "my_list = [\"Jessa\",\"Kelly\",20,35,75]\n",
    "print(my_list)\n",
    "print(type(my_list))\n",
    "\n",
    "print(my_list[0])\n",
    "\n",
    "print(my_list[1:5])\n",
    "\n",
    "my_list[1] = \"Emma\"\n",
    "print(my_list[1])"
   ]
  },
  {
   "cell_type": "code",
   "execution_count": null,
   "id": "0263c96f",
   "metadata": {},
   "outputs": [],
   "source": [
    "my_list2 = [\"Jessa\",\"Kelly\",20,35,75]\n",
    "\n"
   ]
  },
  {
   "cell_type": "code",
   "execution_count": null,
   "id": "bf9c8499",
   "metadata": {},
   "outputs": [],
   "source": [
    "a = ['Hello']\n",
    "a.insert()"
   ]
  },
  {
   "cell_type": "code",
   "execution_count": 14,
   "id": "f868b786",
   "metadata": {},
   "outputs": [
    {
     "data": {
      "text/plain": [
       "[1, 2, 3, 4, 5, 6]"
      ]
     },
     "execution_count": 14,
     "metadata": {},
     "output_type": "execute_result"
    }
   ],
   "source": [
    "[1,2,3]+[4,5,6]"
   ]
  },
  {
   "cell_type": "code",
   "execution_count": 20,
   "id": "f15f3174",
   "metadata": {},
   "outputs": [
    {
     "name": "stdout",
     "output_type": "stream",
     "text": [
      "대문자:2, 소문자:18\n"
     ]
    }
   ],
   "source": [
    "word = \"This is what I want to say\"\n",
    "\n",
    "big,small = 0,0\n",
    "for ch in word:\n",
    "    if ch.isupper():\n",
    "        big += 1\n",
    "    elif ch.islower():\n",
    "        small +=1\n",
    "print('대문자:{}, 소문자:{}'.format(big,small))"
   ]
  },
  {
   "cell_type": "code",
   "execution_count": null,
   "id": "7ab99cd0",
   "metadata": {},
   "outputs": [],
   "source": []
  }
 ],
 "metadata": {
  "kernelspec": {
   "display_name": "Python 3 (ipykernel)",
   "language": "python",
   "name": "python3"
  },
  "language_info": {
   "codemirror_mode": {
    "name": "ipython",
    "version": 3
   },
   "file_extension": ".py",
   "mimetype": "text/x-python",
   "name": "python",
   "nbconvert_exporter": "python",
   "pygments_lexer": "ipython3",
   "version": "3.10.9"
  }
 },
 "nbformat": 4,
 "nbformat_minor": 5
}
