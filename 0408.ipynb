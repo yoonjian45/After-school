{
 "cells": [
  {
   "cell_type": "markdown",
   "id": "2b8fd341",
   "metadata": {},
   "source": [
    "## 1. 두 개의 변수 a와 b에 각가 5와 3을 할당하고, 그 합을 출력하는 코드를 작성하세요"
   ]
  },
  {
   "cell_type": "code",
   "execution_count": 33,
   "id": "22222116",
   "metadata": {
    "scrolled": true
   },
   "outputs": [
    {
     "name": "stdout",
     "output_type": "stream",
     "text": [
      "8\n"
     ]
    }
   ],
   "source": [
    "a = 5\n",
    "b = 3\n",
    "print(a+b)\n"
   ]
  },
  {
   "cell_type": "markdown",
   "id": "43bb911e",
   "metadata": {},
   "source": [
    "## 2. 사용자로부터 이름을 입력 받아 환영 메시지를 출력하는 프로그램을 작성하세요"
   ]
  },
  {
   "cell_type": "code",
   "execution_count": 34,
   "id": "ec273788",
   "metadata": {},
   "outputs": [
    {
     "name": "stdout",
     "output_type": "stream",
     "text": [
      "윤지\n",
      "윤지님 환영합니다.\n"
     ]
    }
   ],
   "source": [
    "p = input()\n",
    "print(f'{p}님 환영합니다.')"
   ]
  },
  {
   "cell_type": "markdown",
   "id": "e6685ec3",
   "metadata": {},
   "source": [
    "## 3. 1부터 10까지의 숫자를 중에서 짝수만 출력하는 코드를 작성하세요"
   ]
  },
  {
   "cell_type": "code",
   "execution_count": 40,
   "id": "8059277e",
   "metadata": {},
   "outputs": [
    {
     "name": "stdout",
     "output_type": "stream",
     "text": [
      "2\n",
      "4\n",
      "6\n",
      "8\n",
      "10\n"
     ]
    }
   ],
   "source": [
    "a = 10\n",
    "for i in range(1,a+1):\n",
    "    if i%2 == 0:\n",
    "        print(i)"
   ]
  },
  {
   "cell_type": "markdown",
   "id": "25bac63e",
   "metadata": {},
   "source": [
    "## 4. 주어진 리스트[1,2,3,4,5]를 출력하는 코드를 작성하세요"
   ]
  },
  {
   "cell_type": "code",
   "execution_count": 5,
   "id": "78534585",
   "metadata": {},
   "outputs": [
    {
     "name": "stdout",
     "output_type": "stream",
     "text": [
      "[1, 2, 3, 4, 5]\n"
     ]
    }
   ],
   "source": [
    "c = [1,2,3,4,5]\n",
    "print(c)"
   ]
  },
  {
   "cell_type": "markdown",
   "id": "e31ec077",
   "metadata": {},
   "source": [
    "## 문자열 \"Hello World!\"를 역순으로 출력하는 코드를 작성하세요"
   ]
  },
  {
   "cell_type": "code",
   "execution_count": 36,
   "id": "444492f5",
   "metadata": {},
   "outputs": [
    {
     "name": "stdout",
     "output_type": "stream",
     "text": [
      "dlroW olleH\n"
     ]
    }
   ],
   "source": [
    "s = 'Hello World'\n",
    "print(s[::-1])"
   ]
  },
  {
   "cell_type": "markdown",
   "id": "be509d0f",
   "metadata": {},
   "source": [
    "## 6. 사용자로부터 두  개의 숫자를 입력받아 두 숫자를 곱한 결솨를 출력하는 프로그램을 작성하세요"
   ]
  },
  {
   "cell_type": "code",
   "execution_count": 11,
   "id": "4ecf37fb",
   "metadata": {},
   "outputs": [
    {
     "name": "stdout",
     "output_type": "stream",
     "text": [
      "3 4\n",
      "12\n"
     ]
    }
   ],
   "source": [
    "a,b = map(int, input().split())\n",
    "print(a * b)"
   ]
  },
  {
   "cell_type": "markdown",
   "id": "35d54874",
   "metadata": {},
   "source": [
    "## 7. 다음 리스트 [1,2,3,4,5]에서 3의 인덱스를 출력하는 코드를 작성하세요"
   ]
  },
  {
   "cell_type": "code",
   "execution_count": 15,
   "id": "f5f174e3",
   "metadata": {},
   "outputs": [
    {
     "name": "stdout",
     "output_type": "stream",
     "text": [
      "3\n"
     ]
    }
   ],
   "source": [
    "c = [1,2,3,4,5]\n",
    "print(c[2])"
   ]
  },
  {
   "cell_type": "markdown",
   "id": "2ab85d05",
   "metadata": {},
   "source": [
    "## 8. 주어진 리스트 [1,2,3,4,5]에서 모든 요소를 더한 값을 출력하는 코드를 작성하세요"
   ]
  },
  {
   "cell_type": "code",
   "execution_count": null,
   "id": "54b9eceb",
   "metadata": {},
   "outputs": [],
   "source": [
    "c = [1,2,3,4,5]\n"
   ]
  },
  {
   "cell_type": "markdown",
   "id": "597ca44e",
   "metadata": {},
   "source": [
    "## 9. 주어진 문잘열 'pyrhon'을 세번 반복하여 출력하는 코드를 작성하세요"
   ]
  },
  {
   "cell_type": "code",
   "execution_count": 42,
   "id": "53d5cd4e",
   "metadata": {},
   "outputs": [
    {
     "name": "stdout",
     "output_type": "stream",
     "text": [
      "pyrhon\n",
      "pyrhon\n",
      "pyrhon\n"
     ]
    }
   ],
   "source": [
    "y = 'pyrhon'\n",
    "for i in range(3):\n",
    "    print(y)"
   ]
  },
  {
   "cell_type": "code",
   "execution_count": 49,
   "id": "56f3fbc7",
   "metadata": {},
   "outputs": [
    {
     "name": "stdout",
     "output_type": "stream",
     "text": [
      "2 4 6 8 10 "
     ]
    }
   ],
   "source": [
    "for i in range(1,11):\n",
    "    if i % 2 == 0:\n",
    "        print(i, end = ' ')"
   ]
  },
  {
   "cell_type": "code",
   "execution_count": 52,
   "id": "27a6ec10",
   "metadata": {},
   "outputs": [
    {
     "name": "stdout",
     "output_type": "stream",
     "text": [
      "홀수의 합은 25 입니다\n"
     ]
    }
   ],
   "source": [
    "sum = 0\n",
    "for i in range(1,11):\n",
    "    if i % 2 == 1:\n",
    "        sum +=i\n",
    "print(f'홀수의 합은 {sum} 입니다')"
   ]
  },
  {
   "cell_type": "code",
   "execution_count": 53,
   "id": "7927b36e",
   "metadata": {},
   "outputs": [
    {
     "name": "stdout",
     "output_type": "stream",
     "text": [
      "짝수의 합은 30 입니다\n"
     ]
    }
   ],
   "source": [
    "sum = 0\n",
    "for i in range(1,11):\n",
    "    if i % 2 == 0:\n",
    "        sum +=i\n",
    "print(f'짝수의 합은 {sum} 입니다')"
   ]
  },
  {
   "cell_type": "code",
   "execution_count": 56,
   "id": "653e1d92",
   "metadata": {},
   "outputs": [
    {
     "name": "stdout",
     "output_type": "stream",
     "text": [
      "홀수의 합은 25 입니다\n",
      "짝수의 합은 30 입니다\n"
     ]
    }
   ],
   "source": [
    "odd_sum = 0\n",
    "even_sum = 0\n",
    "\n",
    "for i in range(1,11):\n",
    "    if i % 2 ==  1:\n",
    "        odd_sum += i\n",
    "    else:\n",
    "        even_sum += i\n",
    "print(f'홀수의 합은 {odd_sum} 입니다')\n",
    "print(f'짝수의 합은 {even_sum} 입니다')"
   ]
  },
  {
   "cell_type": "code",
   "execution_count": null,
   "id": "f43b1f67",
   "metadata": {},
   "outputs": [],
   "source": [
    "for i in range(1,11):\n",
    "    if i % 3 == 0:\n",
    "        sum1 += 1"
   ]
  },
  {
   "cell_type": "code",
   "execution_count": 67,
   "id": "905afd72",
   "metadata": {},
   "outputs": [
    {
     "data": {
      "text/plain": [
       "[1, 2, 3, 4, 5]"
      ]
     },
     "execution_count": 67,
     "metadata": {},
     "output_type": "execute_result"
    }
   ],
   "source": [
    "my_list = [1,2,3,4,5]\n",
    "my_list"
   ]
  },
  {
   "cell_type": "code",
   "execution_count": 68,
   "id": "e8a3b636",
   "metadata": {},
   "outputs": [
    {
     "name": "stdout",
     "output_type": "stream",
     "text": [
      "1 : 2 : 3 : 4 : 5 : "
     ]
    }
   ],
   "source": [
    "for i in my_list:\n",
    "    print(i,end = \" : \")"
   ]
  },
  {
   "cell_type": "code",
   "execution_count": 69,
   "id": "2309535f",
   "metadata": {},
   "outputs": [
    {
     "data": {
      "text/plain": [
       "[5, 4, 3, 2, 1]"
      ]
     },
     "execution_count": 69,
     "metadata": {},
     "output_type": "execute_result"
    }
   ],
   "source": [
    "reversed_list = my_list[::-1]\n",
    "reversed_list"
   ]
  },
  {
   "cell_type": "code",
   "execution_count": 71,
   "id": "6ae4ac5e",
   "metadata": {},
   "outputs": [
    {
     "name": "stdout",
     "output_type": "stream",
     "text": [
      "hello world\n",
      "hello world\n",
      "hello world\n"
     ]
    }
   ],
   "source": [
    "a = 'hello world'\n",
    "b = \"hello world\"\n",
    "c = \"\"\"hello world\"\"\"\n",
    "print(a)\n",
    "print(b)\n",
    "print(c)"
   ]
  },
  {
   "cell_type": "code",
   "execution_count": null,
   "id": "d7a9b7c8",
   "metadata": {},
   "outputs": [],
   "source": []
  },
  {
   "cell_type": "code",
   "execution_count": null,
   "id": "746d2404",
   "metadata": {},
   "outputs": [],
   "source": []
  }
 ],
 "metadata": {
  "kernelspec": {
   "display_name": "Python 3 (ipykernel)",
   "language": "python",
   "name": "python3"
  },
  "language_info": {
   "codemirror_mode": {
    "name": "ipython",
    "version": 3
   },
   "file_extension": ".py",
   "mimetype": "text/x-python",
   "name": "python",
   "nbconvert_exporter": "python",
   "pygments_lexer": "ipython3",
   "version": "3.10.9"
  }
 },
 "nbformat": 4,
 "nbformat_minor": 5
}
