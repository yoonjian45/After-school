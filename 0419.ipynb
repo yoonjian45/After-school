{
 "cells": [
  {
   "cell_type": "code",
   "execution_count": 2,
   "id": "717fabf6",
   "metadata": {},
   "outputs": [
    {
     "name": "stdout",
     "output_type": "stream",
     "text": [
      "1\n",
      "2\n",
      "3\n",
      "4\n",
      "5\n",
      "6\n",
      "7\n",
      "8\n",
      "9\n",
      "10\n"
     ]
    }
   ],
   "source": [
    "for i in range(10):\n",
    "    i += 1\n",
    "    print(i)"
   ]
  },
  {
   "cell_type": "code",
   "execution_count": 7,
   "id": "17ca7327",
   "metadata": {},
   "outputs": [
    {
     "name": "stdout",
     "output_type": "stream",
     "text": [
      "2\n",
      "4\n",
      "6\n",
      "8\n",
      "10\n"
     ]
    }
   ],
   "source": [
    "for i in range(1,10,2):\n",
    "    i += 1\n",
    "    print(i)"
   ]
  },
  {
   "cell_type": "code",
   "execution_count": 19,
   "id": "f28c6382",
   "metadata": {},
   "outputs": [
    {
     "name": "stdout",
     "output_type": "stream",
     "text": [
      "숫자를 입력하세요13\n",
      "13 은(는) 소수가 아닙니다\n"
     ]
    }
   ],
   "source": [
    "num = int(input('숫자를 입력하세요'))\n",
    "\n",
    "if num > 1:\n",
    "    for i in range(1, num//2 + 1):\n",
    "        if (num % 1) == 0:\n",
    "            print(num,'은(는) 소수가 아닙니다')\n",
    "            break\n",
    "        else:\n",
    "            print(num, '은(는) 소수입니다')\n",
    "else:\n",
    "    print(num, '은(는) 소수가 아닙니다')"
   ]
  },
  {
   "cell_type": "code",
   "execution_count": 20,
   "id": "d6854eeb",
   "metadata": {},
   "outputs": [
    {
     "data": {
      "text/plain": [
       "3"
      ]
     },
     "execution_count": 20,
     "metadata": {},
     "output_type": "execute_result"
    }
   ],
   "source": [
    "def add(a,b):\n",
    "    return a + b\n",
    "\n",
    "c = add(1,2)\n",
    "\n",
    "c"
   ]
  },
  {
   "cell_type": "code",
   "execution_count": 22,
   "id": "d76765d5",
   "metadata": {},
   "outputs": [
    {
     "data": {
      "text/plain": [
       "3"
      ]
     },
     "execution_count": 22,
     "metadata": {},
     "output_type": "execute_result"
    }
   ],
   "source": [
    "def add(a,b=2):\n",
    "    return a + b\n",
    "\n",
    "c = add(1)\n",
    "\n",
    "c"
   ]
  },
  {
   "cell_type": "code",
   "execution_count": 35,
   "id": "10028457",
   "metadata": {},
   "outputs": [
    {
     "data": {
      "text/plain": [
       "3"
      ]
     },
     "execution_count": 35,
     "metadata": {},
     "output_type": "execute_result"
    }
   ],
   "source": [
    "def add (a, b = 2):\n",
    "    return a + b\n",
    "\n",
    "def sub(a,b):\n",
    "    return a - b\n",
    "\n",
    "def cal(ca,a,b):\n",
    "    if ca == '+':\n",
    "        return a + b\n",
    "    elif ca == '-':\n",
    "        return a - b\n",
    "    else:\n",
    "        return False\n",
    "r = cal('+',1,2)\n",
    "r"
   ]
  },
  {
   "cell_type": "code",
   "execution_count": 38,
   "id": "73fd3b59",
   "metadata": {},
   "outputs": [
    {
     "data": {
      "text/plain": [
       "2"
      ]
     },
     "execution_count": 38,
     "metadata": {},
     "output_type": "execute_result"
    }
   ],
   "source": [
    "a = 1\n",
    "def vartest():\n",
    "    global a\n",
    "    a = a + 1\n",
    "    return a\n",
    "c = vartest()\n",
    "c"
   ]
  },
  {
   "cell_type": "code",
   "execution_count": 30,
   "id": "7a3f133e",
   "metadata": {},
   "outputs": [
    {
     "name": "stdout",
     "output_type": "stream",
     "text": [
      "몇단? : 6\n",
      "6x1는? 6\n",
      "6x2는? 12\n",
      "6x3는? 18\n",
      "6x4는? 24\n",
      "6x5는? 30\n",
      "6x6는? 36\n",
      "6x7는? 42\n",
      "6x8는? 48\n",
      "6x9는? 54\n"
     ]
    }
   ],
   "source": [
    "a = int(input('몇단? : '))\n",
    "sum = 0\n",
    "\n",
    "for i in range(1,10):\n",
    "    print(f'{a}x{i}는? ', end= '')\n",
    "    print(a * i)"
   ]
  },
  {
   "cell_type": "code",
   "execution_count": 40,
   "id": "34c86297",
   "metadata": {},
   "outputs": [
    {
     "data": {
      "text/plain": [
       "7"
      ]
     },
     "execution_count": 40,
     "metadata": {},
     "output_type": "execute_result"
    }
   ],
   "source": [
    "add = lambda a, b: a + b\n",
    "result = add(3,4)\n",
    "result"
   ]
  },
  {
   "cell_type": "code",
   "execution_count": 47,
   "id": "4857c96a",
   "metadata": {},
   "outputs": [],
   "source": [
    "f = open('hello.txt','w')\n",
    "for i in range(1,11):\n",
    "    data = '%d 번째 줄입니다. \\n' %i\n",
    "    f.write(data)\n",
    "f.close()"
   ]
  },
  {
   "cell_type": "code",
   "execution_count": 51,
   "id": "d368287c",
   "metadata": {},
   "outputs": [
    {
     "name": "stdout",
     "output_type": "stream",
     "text": [
      "1 번째 줄입니다. \n",
      "2 번째 줄입니다. \n",
      "3 번째 줄입니다. \n",
      "4 번째 줄입니다. \n",
      "5 번째 줄입니다. \n",
      "6 번째 줄입니다. \n",
      "7 번째 줄입니다. \n",
      "8 번째 줄입니다. \n",
      "9 번째 줄입니다. \n",
      "10 번째 줄입니다. \n"
     ]
    },
    {
     "data": {
      "text/plain": [
       "<function TextIOWrapper.close()>"
      ]
     },
     "execution_count": 51,
     "metadata": {},
     "output_type": "execute_result"
    }
   ],
   "source": [
    "f = open('hello.txt','r')\n",
    "while True:\n",
    "    l = f.readline()\n",
    "    if not l: break\n",
    "    print(l,end='')\n",
    "f.close"
   ]
  },
  {
   "cell_type": "code",
   "execution_count": 70,
   "id": "8f449d42",
   "metadata": {},
   "outputs": [],
   "source": [
    "class Calculator:\n",
    "    def __init__(self,sum):\n",
    "        self.sum = sum\n",
    "        self.result = 0\n",
    "        \n",
    "    def add(self,num):\n",
    "        self.result = self.sum + num\n",
    "        return self.result\n",
    "cal1 = Calculator(1)\n",
    "cal2 = Calculator(2)"
   ]
  },
  {
   "cell_type": "code",
   "execution_count": 71,
   "id": "850dbfb3",
   "metadata": {},
   "outputs": [
    {
     "data": {
      "text/plain": [
       "4"
      ]
     },
     "execution_count": 71,
     "metadata": {},
     "output_type": "execute_result"
    }
   ],
   "source": [
    "r1 = cal1.add(3)\n",
    "r1"
   ]
  },
  {
   "cell_type": "code",
   "execution_count": null,
   "id": "333ef73a",
   "metadata": {},
   "outputs": [],
   "source": []
  },
  {
   "cell_type": "code",
   "execution_count": null,
   "id": "fa68bd80",
   "metadata": {},
   "outputs": [],
   "source": []
  }
 ],
 "metadata": {
  "kernelspec": {
   "display_name": "Python 3 (ipykernel)",
   "language": "python",
   "name": "python3"
  },
  "language_info": {
   "codemirror_mode": {
    "name": "ipython",
    "version": 3
   },
   "file_extension": ".py",
   "mimetype": "text/x-python",
   "name": "python",
   "nbconvert_exporter": "python",
   "pygments_lexer": "ipython3",
   "version": "3.10.9"
  }
 },
 "nbformat": 4,
 "nbformat_minor": 5
}
